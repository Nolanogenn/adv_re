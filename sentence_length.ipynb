{
 "cells": [
  {
   "cell_type": "code",
   "execution_count": 3,
   "outputs": [],
   "source": [
    "import json\n",
    "import pandas as pd\n",
    "import matplotlib.pyplot as plt\n",
    "import numpy as np"
   ],
   "metadata": {
    "collapsed": false
   }
  },
  {
   "cell_type": "code",
   "execution_count": 4,
   "outputs": [],
   "source": [
    "df = pd.read_csv('./data/tacred_stats.tsv', header=0, delimiter='\\t')\n",
    "df = df[:-1]\n",
    "relations = df[\"# Relation\"].to_list()\n",
    "relation_to_id = {r: i for i, r in enumerate(relations)}"
   ],
   "metadata": {
    "collapsed": false
   }
  },
  {
   "cell_type": "code",
   "execution_count": 5,
   "metadata": {
    "collapsed": true
   },
   "outputs": [],
   "source": [
    "relation_to_frequency = {r:0 for r in relation_to_id.keys()}\n",
    "\n",
    "lengths = []\n",
    "test_data = json.load(open('data/controlled_tacred_test_sub1_subj.json'))\n",
    "for sample in test_data:\n",
    "    relation_labels = sample['correct_relation']\n",
    "    tokens = sample['tokens']\n",
    "    lengths.append(len(tokens))\n"
   ]
  },
  {
   "cell_type": "code",
   "execution_count": 6,
   "outputs": [
    {
     "name": "stdout",
     "output_type": "stream",
     "text": [
      "max: 101\n",
      "min: 3\n",
      "mean: 38.72482535355257\n"
     ]
    }
   ],
   "source": [
    "print('max:', max(lengths))\n",
    "print('min:', min(lengths))\n",
    "print('mean:', np.mean(lengths))\n"
   ],
   "metadata": {
    "collapsed": false
   }
  },
  {
   "cell_type": "code",
   "execution_count": 7,
   "outputs": [
    {
     "data": {
      "text/plain": "<Figure size 640x480 with 1 Axes>",
      "image/png": "[encoded data removed]"
     },
     "metadata": {},
     "output_type": "display_data"
    }
   ],
   "source": [
    "num_bins = 10\n",
    "_, bins, _ = plt.hist(lengths, bins=num_bins-1)"
   ],
   "metadata": {
    "collapsed": false
   }
  },
  {
   "cell_type": "code",
   "execution_count": 8,
   "outputs": [
    {
     "data": {
      "text/plain": "array([  3.        ,  13.88888889,  24.77777778,  35.66666667,\n        46.55555556,  57.44444444,  68.33333333,  79.22222222,\n        90.11111111, 101.        ])"
     },
     "execution_count": 8,
     "metadata": {},
     "output_type": "execute_result"
    }
   ],
   "source": [
    "bins"
   ],
   "metadata": {
    "collapsed": false
   }
  },
  {
   "cell_type": "code",
   "execution_count": 9,
   "outputs": [],
   "source": [
    "def get_bin(bins, value):\n",
    "    for i, b in enumerate(bins):\n",
    "        if value <= b:\n",
    "            return i\n",
    "    return len(bins) - 1"
   ],
   "metadata": {
    "collapsed": false
   }
  },
  {
   "cell_type": "code",
   "execution_count": 10,
   "outputs": [
    {
     "data": {
      "text/plain": "{'no_relation': 0,\n 'org:alternate_names': 1,\n 'org:city_of_headquarters': 2,\n 'org:country_of_headquarters': 3,\n 'org:dissolved': 4,\n 'org:founded': 5,\n 'org:founded_by': 6,\n 'org:member_of': 7,\n 'org:members': 8,\n 'org:number_of_employees/members': 9,\n 'org:parents': 10,\n 'org:political/religious_affiliation': 11,\n 'org:shareholders': 12,\n 'org:stateorprovince_of_headquarters': 13,\n 'org:subsidiaries': 14,\n 'org:top_members/employees': 15,\n 'org:website': 16,\n 'per:age': 17,\n 'per:alternate_names': 18,\n 'per:cause_of_death': 19,\n 'per:charges': 20,\n 'per:children': 21,\n 'per:cities_of_residence': 22,\n 'per:city_of_birth': 23,\n 'per:city_of_death': 24,\n 'per:countries_of_residence': 25,\n 'per:country_of_birth': 26,\n 'per:country_of_death': 27,\n 'per:date_of_birth': 28,\n 'per:date_of_death': 29,\n 'per:employee_of': 30,\n 'per:origin': 31,\n 'per:other_family': 32,\n 'per:parents': 33,\n 'per:religion': 34,\n 'per:schools_attended': 35,\n 'per:siblings': 36,\n 'per:spouse': 37,\n 'per:stateorprovince_of_birth': 38,\n 'per:stateorprovince_of_death': 39,\n 'per:stateorprovinces_of_residence': 40,\n 'per:title': 41}"
     },
     "execution_count": 10,
     "metadata": {},
     "output_type": "execute_result"
    }
   ],
   "source": [
    "relation_to_id"
   ],
   "metadata": {
    "collapsed": false
   }
  },
  {
   "cell_type": "code",
   "execution_count": 11,
   "outputs": [],
   "source": [
    "import sys\n",
    "from collections import Counter\n",
    "\n",
    "NO_RELATION = relation_to_id['no_relation']\n",
    "\n",
    "\n",
    "def score(key, prediction):\n",
    "    correct_by_relation = Counter()\n",
    "    guessed_by_relation = Counter()\n",
    "    gold_by_relation    = Counter()\n",
    "\n",
    "    # Loop over the data to compute a score\n",
    "    for row in range(len(key)):\n",
    "        gold = key[row]\n",
    "        guess = prediction[row]\n",
    "\n",
    "        if gold == NO_RELATION and guess == NO_RELATION:\n",
    "            pass\n",
    "        elif gold == NO_RELATION and guess != NO_RELATION:\n",
    "            guessed_by_relation[guess] += 1\n",
    "        elif gold != NO_RELATION and guess == NO_RELATION:\n",
    "            gold_by_relation[gold] += 1\n",
    "        elif gold != NO_RELATION and guess != NO_RELATION:\n",
    "            guessed_by_relation[guess] += 1\n",
    "            gold_by_relation[gold] += 1\n",
    "            if gold == guess:\n",
    "                correct_by_relation[guess] += 1\n",
    "\n",
    "    prec_micro = 1.0\n",
    "    if sum(guessed_by_relation.values()) > 0:\n",
    "        prec_micro   = float(sum(correct_by_relation.values())) / float(sum(guessed_by_relation.values()))\n",
    "    recall_micro = 0.0\n",
    "    if sum(gold_by_relation.values()) > 0:\n",
    "        recall_micro = float(sum(correct_by_relation.values())) / float(sum(gold_by_relation.values()))\n",
    "    f1_micro = 0.0\n",
    "    if prec_micro + recall_micro > 0.0:\n",
    "        f1_micro = 2.0 * prec_micro * recall_micro / (prec_micro + recall_micro)\n",
    "    #print( \"Precision (micro): {:.3%}\".format(prec_micro) )\n",
    "    #print( \"   Recall (micro): {:.3%}\".format(recall_micro) )\n",
    "    #print( \"       F1 (micro): {:.3%}\".format(f1_micro) )\n",
    "    return prec_micro, recall_micro, f1_micro"
   ],
   "metadata": {
    "collapsed": false
   }
  },
  {
   "cell_type": "code",
   "execution_count": 11,
   "outputs": [],
   "source": [],
   "metadata": {
    "collapsed": false
   }
  },
  {
   "cell_type": "code",
   "execution_count": 12,
   "outputs": [],
   "source": [
    "def get_bin_f1(model_name):\n",
    "\n",
    "    prediction_by_length = {i:{'correct_relation': [], 'results':[]} for i in range(num_bins)}\n",
    "\n",
    "    test_data = json.load(open('data/controlled_tacred_test_sub1_obj.json'))\n",
    "    for sample in test_data:\n",
    "        relation_labels = sample['correct_relation']\n",
    "        result_label = sample['results'][model_name]\n",
    "        tokens = sample['tokens']\n",
    "\n",
    "        prediction_by_length[get_bin(bins, len(tokens))]['correct_relation'].append(relation_to_id[relation_labels])\n",
    "        prediction_by_length[get_bin(bins, len(tokens))]['results'].append(relation_to_id[result_label])\n",
    "\n",
    "    scores = []\n",
    "    for i in range(num_bins):\n",
    "        prec_micro, recall_micro, f1_micro = score(prediction_by_length[i]['results'], prediction_by_length[i]['correct_relation'])\n",
    "        scores.append(f1_micro)\n",
    "\n",
    "    return scores"
   ],
   "metadata": {
    "collapsed": false
   }
  },
  {
   "cell_type": "code",
   "execution_count": 13,
   "outputs": [
    {
     "name": "stdout",
     "output_type": "stream",
     "text": [
      "[0.0, 0.6666666666666667, 0.7403598971722366, 0.6954022988505746, 0.689908256880734, 0.6755555555555555, 0.606060606060606, 0.631578947368421, 0.3333333333333333, 1.0]\n",
      "[0.0, 0.12903225806451613, 0.31932773109243695, 0.34591194968553457, 0.3486238532110092, 0.3858823529411765, 0.3853211009174311, 0.6956521739130435, 0.0, 0.4]\n",
      "[0.0, 0.22727272727272727, 0.37010676156583633, 0.35939643347050754, 0.35555555555555557, 0.3106796116504854, 0.35443037974683544, 0.15384615384615385, 0.0, 0.5]\n",
      "[0.0, 0.53125, 0.6838046272493573, 0.6884615384615383, 0.6364494806421152, 0.6503340757238307, 0.6274509803921569, 0.631578947368421, 0.28571428571428575, 0.8]\n"
     ]
    }
   ],
   "source": [
    "print(get_bin_f1('LUKE'))\n",
    "print(get_bin_f1('SpanBERT'))\n",
    "print(get_bin_f1('SURE'))\n",
    "print(get_bin_f1('UniST'))"
   ],
   "metadata": {
    "collapsed": false
   }
  },
  {
   "cell_type": "code",
   "execution_count": 14,
   "outputs": [],
   "source": [],
   "metadata": {
    "collapsed": false
   }
  },
  {
   "cell_type": "code",
   "execution_count": null,
   "outputs": [],
   "source": [],
   "metadata": {
    "collapsed": false
   }
  }
 ],
 "metadata": {
  "kernelspec": {
   "display_name": "Python 3",
   "language": "python",
   "name": "python3"
  },
  "language_info": {
   "codemirror_mode": {
    "name": "ipython",
    "version": 2
   },
   "file_extension": ".py",
   "mimetype": "text/x-python",
   "name": "python",
   "nbconvert_exporter": "python",
   "pygments_lexer": "ipython2",
   "version": "2.7.6"
  }
 },
 "nbformat": 4,
 "nbformat_minor": 0
}
